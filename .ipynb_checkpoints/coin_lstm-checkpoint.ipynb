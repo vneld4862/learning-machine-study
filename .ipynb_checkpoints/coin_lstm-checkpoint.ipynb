{
 "cells": [
  {
   "cell_type": "code",
   "execution_count": 1,
   "metadata": {
    "id": "jNXHDee8s6W2"
   },
   "outputs": [],
   "source": [
    "import requests\n",
    "import pandas as pd\n",
    "import matplotlib.pyplot as plt\n",
    "import seaborn as sns\n",
    "from sklearn.preprocessing import MinMaxScaler\n",
    "from sklearn.model_selection import train_test_split\n",
    "import tensorflow as tf\n",
    "from tensorflow.keras.models import Sequential\n",
    "from tensorflow.keras.layers import Dense, LSTM, Conv1D, Lambda\n",
    "from tensorflow.keras.losses import Huber\n",
    "from tensorflow.keras.optimizers import Adam\n",
    "from tensorflow.keras.callbacks import EarlyStopping, ModelCheckpoint\n",
    "import os\n",
    "import datetime\n",
    "import numpy as np"
   ]
  },
  {
   "cell_type": "code",
   "execution_count": 2,
   "metadata": {
    "id": "jRypQOy3s7GV"
   },
   "outputs": [
    {
     "name": "stderr",
     "output_type": "stream",
     "text": [
      "C:\\Users\\KMH\\AppData\\Local\\Temp\\ipykernel_16708\\1186958547.py:61: FutureWarning: The frame.append method is deprecated and will be removed from pandas in a future version. Use pandas.concat instead.\n",
      "  df = df.append(preprocessing_crawled_data(response.text[1:-1]), ignore_index=True)\n",
      "C:\\Users\\KMH\\AppData\\Local\\Temp\\ipykernel_16708\\1186958547.py:61: FutureWarning: The frame.append method is deprecated and will be removed from pandas in a future version. Use pandas.concat instead.\n",
      "  df = df.append(preprocessing_crawled_data(response.text[1:-1]), ignore_index=True)\n",
      "C:\\Users\\KMH\\AppData\\Local\\Temp\\ipykernel_16708\\1186958547.py:61: FutureWarning: The frame.append method is deprecated and will be removed from pandas in a future version. Use pandas.concat instead.\n",
      "  df = df.append(preprocessing_crawled_data(response.text[1:-1]), ignore_index=True)\n",
      "C:\\Users\\KMH\\AppData\\Local\\Temp\\ipykernel_16708\\1186958547.py:61: FutureWarning: The frame.append method is deprecated and will be removed from pandas in a future version. Use pandas.concat instead.\n",
      "  df = df.append(preprocessing_crawled_data(response.text[1:-1]), ignore_index=True)\n",
      "C:\\Users\\KMH\\AppData\\Local\\Temp\\ipykernel_16708\\1186958547.py:61: FutureWarning: The frame.append method is deprecated and will be removed from pandas in a future version. Use pandas.concat instead.\n",
      "  df = df.append(preprocessing_crawled_data(response.text[1:-1]), ignore_index=True)\n",
      "C:\\Users\\KMH\\AppData\\Local\\Temp\\ipykernel_16708\\1186958547.py:61: FutureWarning: The frame.append method is deprecated and will be removed from pandas in a future version. Use pandas.concat instead.\n",
      "  df = df.append(preprocessing_crawled_data(response.text[1:-1]), ignore_index=True)\n",
      "C:\\Users\\KMH\\AppData\\Local\\Temp\\ipykernel_16708\\1186958547.py:61: FutureWarning: The frame.append method is deprecated and will be removed from pandas in a future version. Use pandas.concat instead.\n",
      "  df = df.append(preprocessing_crawled_data(response.text[1:-1]), ignore_index=True)\n",
      "C:\\Users\\KMH\\AppData\\Local\\Temp\\ipykernel_16708\\1186958547.py:61: FutureWarning: The frame.append method is deprecated and will be removed from pandas in a future version. Use pandas.concat instead.\n",
      "  df = df.append(preprocessing_crawled_data(response.text[1:-1]), ignore_index=True)\n",
      "C:\\Users\\KMH\\AppData\\Local\\Temp\\ipykernel_16708\\1186958547.py:61: FutureWarning: The frame.append method is deprecated and will be removed from pandas in a future version. Use pandas.concat instead.\n",
      "  df = df.append(preprocessing_crawled_data(response.text[1:-1]), ignore_index=True)\n",
      "C:\\Users\\KMH\\AppData\\Local\\Temp\\ipykernel_16708\\1186958547.py:61: FutureWarning: The frame.append method is deprecated and will be removed from pandas in a future version. Use pandas.concat instead.\n",
      "  df = df.append(preprocessing_crawled_data(response.text[1:-1]), ignore_index=True)\n",
      "C:\\Users\\KMH\\AppData\\Local\\Temp\\ipykernel_16708\\1186958547.py:61: FutureWarning: The frame.append method is deprecated and will be removed from pandas in a future version. Use pandas.concat instead.\n",
      "  df = df.append(preprocessing_crawled_data(response.text[1:-1]), ignore_index=True)\n",
      "C:\\Users\\KMH\\AppData\\Local\\Temp\\ipykernel_16708\\1186958547.py:61: FutureWarning: The frame.append method is deprecated and will be removed from pandas in a future version. Use pandas.concat instead.\n",
      "  df = df.append(preprocessing_crawled_data(response.text[1:-1]), ignore_index=True)\n",
      "C:\\Users\\KMH\\AppData\\Local\\Temp\\ipykernel_16708\\1186958547.py:61: FutureWarning: The frame.append method is deprecated and will be removed from pandas in a future version. Use pandas.concat instead.\n",
      "  df = df.append(preprocessing_crawled_data(response.text[1:-1]), ignore_index=True)\n",
      "C:\\Users\\KMH\\AppData\\Local\\Temp\\ipykernel_16708\\1186958547.py:61: FutureWarning: The frame.append method is deprecated and will be removed from pandas in a future version. Use pandas.concat instead.\n",
      "  df = df.append(preprocessing_crawled_data(response.text[1:-1]), ignore_index=True)\n",
      "C:\\Users\\KMH\\AppData\\Local\\Temp\\ipykernel_16708\\1186958547.py:61: FutureWarning: The frame.append method is deprecated and will be removed from pandas in a future version. Use pandas.concat instead.\n",
      "  df = df.append(preprocessing_crawled_data(response.text[1:-1]), ignore_index=True)\n",
      "C:\\Users\\KMH\\AppData\\Local\\Temp\\ipykernel_16708\\1186958547.py:61: FutureWarning: The frame.append method is deprecated and will be removed from pandas in a future version. Use pandas.concat instead.\n",
      "  df = df.append(preprocessing_crawled_data(response.text[1:-1]), ignore_index=True)\n",
      "C:\\Users\\KMH\\AppData\\Local\\Temp\\ipykernel_16708\\1186958547.py:61: FutureWarning: The frame.append method is deprecated and will be removed from pandas in a future version. Use pandas.concat instead.\n",
      "  df = df.append(preprocessing_crawled_data(response.text[1:-1]), ignore_index=True)\n",
      "C:\\Users\\KMH\\AppData\\Local\\Temp\\ipykernel_16708\\1186958547.py:61: FutureWarning: The frame.append method is deprecated and will be removed from pandas in a future version. Use pandas.concat instead.\n",
      "  df = df.append(preprocessing_crawled_data(response.text[1:-1]), ignore_index=True)\n",
      "C:\\Users\\KMH\\AppData\\Local\\Temp\\ipykernel_16708\\1186958547.py:61: FutureWarning: The frame.append method is deprecated and will be removed from pandas in a future version. Use pandas.concat instead.\n",
      "  df = df.append(preprocessing_crawled_data(response.text[1:-1]), ignore_index=True)\n",
      "C:\\Users\\KMH\\AppData\\Local\\Temp\\ipykernel_16708\\1186958547.py:61: FutureWarning: The frame.append method is deprecated and will be removed from pandas in a future version. Use pandas.concat instead.\n",
      "  df = df.append(preprocessing_crawled_data(response.text[1:-1]), ignore_index=True)\n",
      "C:\\Users\\KMH\\AppData\\Local\\Temp\\ipykernel_16708\\1186958547.py:61: FutureWarning: The frame.append method is deprecated and will be removed from pandas in a future version. Use pandas.concat instead.\n",
      "  df = df.append(preprocessing_crawled_data(response.text[1:-1]), ignore_index=True)\n",
      "C:\\Users\\KMH\\AppData\\Local\\Temp\\ipykernel_16708\\1186958547.py:61: FutureWarning: The frame.append method is deprecated and will be removed from pandas in a future version. Use pandas.concat instead.\n",
      "  df = df.append(preprocessing_crawled_data(response.text[1:-1]), ignore_index=True)\n",
      "C:\\Users\\KMH\\AppData\\Local\\Temp\\ipykernel_16708\\1186958547.py:61: FutureWarning: The frame.append method is deprecated and will be removed from pandas in a future version. Use pandas.concat instead.\n",
      "  df = df.append(preprocessing_crawled_data(response.text[1:-1]), ignore_index=True)\n",
      "C:\\Users\\KMH\\AppData\\Local\\Temp\\ipykernel_16708\\1186958547.py:61: FutureWarning: The frame.append method is deprecated and will be removed from pandas in a future version. Use pandas.concat instead.\n",
      "  df = df.append(preprocessing_crawled_data(response.text[1:-1]), ignore_index=True)\n",
      "C:\\Users\\KMH\\AppData\\Local\\Temp\\ipykernel_16708\\1186958547.py:61: FutureWarning: The frame.append method is deprecated and will be removed from pandas in a future version. Use pandas.concat instead.\n",
      "  df = df.append(preprocessing_crawled_data(response.text[1:-1]), ignore_index=True)\n",
      "C:\\Users\\KMH\\AppData\\Local\\Temp\\ipykernel_16708\\1186958547.py:61: FutureWarning: The frame.append method is deprecated and will be removed from pandas in a future version. Use pandas.concat instead.\n",
      "  df = df.append(preprocessing_crawled_data(response.text[1:-1]), ignore_index=True)\n",
      "C:\\Users\\KMH\\AppData\\Local\\Temp\\ipykernel_16708\\1186958547.py:61: FutureWarning: The frame.append method is deprecated and will be removed from pandas in a future version. Use pandas.concat instead.\n",
      "  df = df.append(preprocessing_crawled_data(response.text[1:-1]), ignore_index=True)\n",
      "C:\\Users\\KMH\\AppData\\Local\\Temp\\ipykernel_16708\\1186958547.py:61: FutureWarning: The frame.append method is deprecated and will be removed from pandas in a future version. Use pandas.concat instead.\n",
      "  df = df.append(preprocessing_crawled_data(response.text[1:-1]), ignore_index=True)\n",
      "C:\\Users\\KMH\\AppData\\Local\\Temp\\ipykernel_16708\\1186958547.py:61: FutureWarning: The frame.append method is deprecated and will be removed from pandas in a future version. Use pandas.concat instead.\n",
      "  df = df.append(preprocessing_crawled_data(response.text[1:-1]), ignore_index=True)\n"
     ]
    },
    {
     "name": "stderr",
     "output_type": "stream",
     "text": [
      "C:\\Users\\KMH\\AppData\\Local\\Temp\\ipykernel_16708\\1186958547.py:61: FutureWarning: The frame.append method is deprecated and will be removed from pandas in a future version. Use pandas.concat instead.\n",
      "  df = df.append(preprocessing_crawled_data(response.text[1:-1]), ignore_index=True)\n",
      "C:\\Users\\KMH\\AppData\\Local\\Temp\\ipykernel_16708\\1186958547.py:61: FutureWarning: The frame.append method is deprecated and will be removed from pandas in a future version. Use pandas.concat instead.\n",
      "  df = df.append(preprocessing_crawled_data(response.text[1:-1]), ignore_index=True)\n",
      "C:\\Users\\KMH\\AppData\\Local\\Temp\\ipykernel_16708\\1186958547.py:61: FutureWarning: The frame.append method is deprecated and will be removed from pandas in a future version. Use pandas.concat instead.\n",
      "  df = df.append(preprocessing_crawled_data(response.text[1:-1]), ignore_index=True)\n",
      "C:\\Users\\KMH\\AppData\\Local\\Temp\\ipykernel_16708\\1186958547.py:61: FutureWarning: The frame.append method is deprecated and will be removed from pandas in a future version. Use pandas.concat instead.\n",
      "  df = df.append(preprocessing_crawled_data(response.text[1:-1]), ignore_index=True)\n",
      "C:\\Users\\KMH\\AppData\\Local\\Temp\\ipykernel_16708\\1186958547.py:61: FutureWarning: The frame.append method is deprecated and will be removed from pandas in a future version. Use pandas.concat instead.\n",
      "  df = df.append(preprocessing_crawled_data(response.text[1:-1]), ignore_index=True)\n",
      "C:\\Users\\KMH\\AppData\\Local\\Temp\\ipykernel_16708\\1186958547.py:61: FutureWarning: The frame.append method is deprecated and will be removed from pandas in a future version. Use pandas.concat instead.\n",
      "  df = df.append(preprocessing_crawled_data(response.text[1:-1]), ignore_index=True)\n",
      "C:\\Users\\KMH\\AppData\\Local\\Temp\\ipykernel_16708\\1186958547.py:61: FutureWarning: The frame.append method is deprecated and will be removed from pandas in a future version. Use pandas.concat instead.\n",
      "  df = df.append(preprocessing_crawled_data(response.text[1:-1]), ignore_index=True)\n",
      "C:\\Users\\KMH\\AppData\\Local\\Temp\\ipykernel_16708\\1186958547.py:61: FutureWarning: The frame.append method is deprecated and will be removed from pandas in a future version. Use pandas.concat instead.\n",
      "  df = df.append(preprocessing_crawled_data(response.text[1:-1]), ignore_index=True)\n",
      "C:\\Users\\KMH\\AppData\\Local\\Temp\\ipykernel_16708\\1186958547.py:61: FutureWarning: The frame.append method is deprecated and will be removed from pandas in a future version. Use pandas.concat instead.\n",
      "  df = df.append(preprocessing_crawled_data(response.text[1:-1]), ignore_index=True)\n",
      "C:\\Users\\KMH\\AppData\\Local\\Temp\\ipykernel_16708\\1186958547.py:61: FutureWarning: The frame.append method is deprecated and will be removed from pandas in a future version. Use pandas.concat instead.\n",
      "  df = df.append(preprocessing_crawled_data(response.text[1:-1]), ignore_index=True)\n",
      "C:\\Users\\KMH\\AppData\\Local\\Temp\\ipykernel_16708\\1186958547.py:61: FutureWarning: The frame.append method is deprecated and will be removed from pandas in a future version. Use pandas.concat instead.\n",
      "  df = df.append(preprocessing_crawled_data(response.text[1:-1]), ignore_index=True)\n",
      "C:\\Users\\KMH\\AppData\\Local\\Temp\\ipykernel_16708\\1186958547.py:61: FutureWarning: The frame.append method is deprecated and will be removed from pandas in a future version. Use pandas.concat instead.\n",
      "  df = df.append(preprocessing_crawled_data(response.text[1:-1]), ignore_index=True)\n",
      "C:\\Users\\KMH\\AppData\\Local\\Temp\\ipykernel_16708\\1186958547.py:61: FutureWarning: The frame.append method is deprecated and will be removed from pandas in a future version. Use pandas.concat instead.\n",
      "  df = df.append(preprocessing_crawled_data(response.text[1:-1]), ignore_index=True)\n",
      "C:\\Users\\KMH\\AppData\\Local\\Temp\\ipykernel_16708\\1186958547.py:61: FutureWarning: The frame.append method is deprecated and will be removed from pandas in a future version. Use pandas.concat instead.\n",
      "  df = df.append(preprocessing_crawled_data(response.text[1:-1]), ignore_index=True)\n",
      "C:\\Users\\KMH\\AppData\\Local\\Temp\\ipykernel_16708\\1186958547.py:61: FutureWarning: The frame.append method is deprecated and will be removed from pandas in a future version. Use pandas.concat instead.\n",
      "  df = df.append(preprocessing_crawled_data(response.text[1:-1]), ignore_index=True)\n",
      "C:\\Users\\KMH\\AppData\\Local\\Temp\\ipykernel_16708\\1186958547.py:61: FutureWarning: The frame.append method is deprecated and will be removed from pandas in a future version. Use pandas.concat instead.\n",
      "  df = df.append(preprocessing_crawled_data(response.text[1:-1]), ignore_index=True)\n",
      "C:\\Users\\KMH\\AppData\\Local\\Temp\\ipykernel_16708\\1186958547.py:61: FutureWarning: The frame.append method is deprecated and will be removed from pandas in a future version. Use pandas.concat instead.\n",
      "  df = df.append(preprocessing_crawled_data(response.text[1:-1]), ignore_index=True)\n",
      "C:\\Users\\KMH\\AppData\\Local\\Temp\\ipykernel_16708\\1186958547.py:61: FutureWarning: The frame.append method is deprecated and will be removed from pandas in a future version. Use pandas.concat instead.\n",
      "  df = df.append(preprocessing_crawled_data(response.text[1:-1]), ignore_index=True)\n",
      "C:\\Users\\KMH\\AppData\\Local\\Temp\\ipykernel_16708\\1186958547.py:61: FutureWarning: The frame.append method is deprecated and will be removed from pandas in a future version. Use pandas.concat instead.\n",
      "  df = df.append(preprocessing_crawled_data(response.text[1:-1]), ignore_index=True)\n",
      "C:\\Users\\KMH\\AppData\\Local\\Temp\\ipykernel_16708\\1186958547.py:61: FutureWarning: The frame.append method is deprecated and will be removed from pandas in a future version. Use pandas.concat instead.\n",
      "  df = df.append(preprocessing_crawled_data(response.text[1:-1]), ignore_index=True)\n"
     ]
    },
    {
     "name": "stdout",
     "output_type": "stream",
     "text": [
      "                     Date  Market  Open  High   Low Close          Volume  \\\n",
      "0     2022-10-26T22:08:00  KRW-SC  4.67  4.67  4.67  4.67   191393.617021   \n",
      "1     2022-10-26T22:09:00  KRW-SC  4.67  4.68  4.67  4.68   402479.693581   \n",
      "2     2022-10-26T22:10:00  KRW-SC  4.67  4.67  4.67  4.67     2997.897182   \n",
      "3     2022-10-26T22:13:00  KRW-SC  4.68  4.68  4.68  4.68   298995.801245   \n",
      "4     2022-10-26T22:15:00  KRW-SC  4.68  4.68  4.68  4.68   193932.541123   \n",
      "...                   ...     ...   ...   ...   ...   ...             ...   \n",
      "9995  2022-11-07T07:00:00  KRW-SC  4.67  4.67  4.67  4.67    96430.323812   \n",
      "9996  2022-11-07T07:01:00  KRW-SC  4.66  4.66  4.65  4.66  2550827.608906   \n",
      "9997  2022-11-07T07:02:00  KRW-SC  4.66  4.66  4.66  4.66     3501.504827   \n",
      "9998  2022-11-07T07:03:00  KRW-SC  4.65  4.65  4.65  4.65        389500.0   \n",
      "9999  2022-11-07T07:04:00  KRW-SC  4.65  4.66  4.65  4.65      481257.272   \n",
      "\n",
      "                Price  \n",
      "0       893808.191489  \n",
      "1      1882756.325961  \n",
      "2        14000.179839  \n",
      "3      1399300.349825  \n",
      "4       907604.292456  \n",
      "...               ...  \n",
      "9995      450329.6122  \n",
      "9996  11882636.207202  \n",
      "9997     16317.012494  \n",
      "9998        1811175.0  \n",
      "9999     2237861.3148  \n",
      "\n",
      "[10000 rows x 8 columns]\n"
     ]
    },
    {
     "name": "stderr",
     "output_type": "stream",
     "text": [
      "C:\\Users\\KMH\\AppData\\Local\\Temp\\ipykernel_16708\\1186958547.py:61: FutureWarning: The frame.append method is deprecated and will be removed from pandas in a future version. Use pandas.concat instead.\n",
      "  df = df.append(preprocessing_crawled_data(response.text[1:-1]), ignore_index=True)\n"
     ]
    }
   ],
   "source": [
    "UNIT = '1'\n",
    "MARKET = 'KRW-SC'\n",
    "\n",
    "data_columns = {\n",
    "    'market': 'Market',\n",
    "    'candle_date_time_utc': 'Date',\n",
    "    'opening_price': 'Open',\n",
    "    'high_price': 'High',\n",
    "    'low_price': 'Low',\n",
    "    'trade_price': 'Close',\n",
    "    'candle_acc_trade_volume': 'Volume',\n",
    "    'candle_acc_trade_price' : 'Price',\n",
    "}\n",
    "\n",
    "# str UTC DATETIME\n",
    "def get_query_datetime():\n",
    "    now = datetime.datetime.now() #- datetime.timedelta(hours=9)\n",
    "    now = str(now.strftime('%Y-%m-%d %H:%M:%S'))\n",
    "    now = now.replace(' ', 'T') + 'Z'\n",
    "    return now\n",
    "\n",
    "\n",
    "# 크롤링한 데이터 전처리\n",
    "def preprocessing_crawled_data(datas: str):\n",
    "    array_dict_datas = []\n",
    "    array_datas = datas.split('},')\n",
    "\n",
    "    for data in array_datas:\n",
    "        array_data = []\n",
    "        data = data.replace('{', '')\n",
    "        data = data.replace('}', '')\n",
    "        array_data = data.split(',')\n",
    "\n",
    "        dict_data = {}\n",
    "        for value in array_data:\n",
    "            tmp = value.split(':', 1)\n",
    "            if tmp[0][1: -1] in data_columns:\n",
    "                dict_data[data_columns[tmp[0][1: -1]]] = tmp[1]\n",
    "\n",
    "        dict_data['Market'] = dict_data['Market'][1: -1]\n",
    "        dict_data['Date'] = dict_data['Date'][1: -1]\n",
    "        dict_data['Open'] = float(dict_data['Open'])\n",
    "        dict_data['High'] = float(dict_data['High'])\n",
    "        dict_data['Low'] = float(dict_data['Low'])\n",
    "        dict_data['Close'] = float(dict_data['Close'])\n",
    "        dict_data['Volume'] = float(dict_data['Volume'])\n",
    "        dict_data['Price'] = float(dict_data['Price'])\n",
    "        array_dict_datas.append(dict_data)\n",
    "\n",
    "    return array_dict_datas\n",
    "\n",
    "\n",
    "# 크롤링 후 df 리턴\n",
    "def do_crawl(unit: str, market: str, time: str, count: str, loop: int):\n",
    "    df = pd.DataFrame([], columns=['Date', 'Market', 'Open', 'High', 'Low', 'Close', 'Volume', 'Price'])\n",
    "    url = \"https://api.upbit.com/v1/candles/minutes/\" + unit\n",
    "\n",
    "    for _ in range(loop):\n",
    "        querystring = {\"market\": market, \"to\": time, \"count\": count}\n",
    "        response = requests.request(\"GET\", url, params=querystring)\n",
    "        df = df.append(preprocessing_crawled_data(response.text[1:-1]), ignore_index=True)\n",
    "        time = df.iloc[-1]['Date'] + 'Z'\n",
    "    df = df.loc[::-1].reset_index(drop=True)\n",
    "    return df\n",
    "\n",
    "\n",
    "\n",
    "\n",
    "# first 데이터 셋 만들기\n",
    "df = do_crawl(UNIT, MARKET, get_query_datetime(), '200', 50)\n",
    "df.to_csv(\"test.csv\")\n",
    "\n",
    "print(df)"
   ]
  },
  {
   "cell_type": "code",
   "execution_count": 3,
   "metadata": {
    "id": "cQmw-K60s9cj"
   },
   "outputs": [
    {
     "data": {
      "text/plain": [
       "Text(0, 0.5, 'price')"
      ]
     },
     "execution_count": 3,
     "metadata": {},
     "output_type": "execute_result"
    },
    {
     "data": {
      "image/png": "[encoded data removed]",
      "text/plain": [
       "<Figure size 1152x648 with 1 Axes>"
      ]
     },
     "metadata": {
      "needs_background": "light"
     },
     "output_type": "display_data"
    }
   ],
   "source": [
    "plt.figure(figsize=(16, 9))\n",
    "sns.lineplot(y=df['Close'], x=df.index)\n",
    "plt.xlabel('time')\n",
    "plt.ylabel('price')"
   ]
  },
  {
   "cell_type": "code",
   "execution_count": 4,
   "metadata": {
    "id": "xi0dAddms-1C"
   },
   "outputs": [
    {
     "name": "stdout",
     "output_type": "stream",
     "text": [
      "          Open      High    Low     Close    Volume     Price\n",
      "0     0.340909  0.340909  0.375  0.348837  0.005534  0.005490\n",
      "1     0.340909  0.363636  0.375  0.372093  0.011637  0.011564\n",
      "2     0.340909  0.340909  0.375  0.348837  0.000087  0.000086\n",
      "3     0.363636  0.363636  0.400  0.372093  0.008645  0.008594\n",
      "4     0.363636  0.363636  0.400  0.372093  0.005607  0.005574\n",
      "...        ...       ...    ...       ...       ...       ...\n",
      "9995  0.340909  0.340909  0.375  0.348837  0.002788  0.002766\n",
      "9996  0.318182  0.318182  0.325  0.325581  0.073752  0.072983\n",
      "9997  0.318182  0.318182  0.350  0.325581  0.000101  0.000100\n",
      "9998  0.295455  0.295455  0.325  0.302326  0.011262  0.011124\n",
      "9999  0.295455  0.318182  0.325  0.302326  0.013915  0.013745\n",
      "\n",
      "[10000 rows x 6 columns]\n"
     ]
    }
   ],
   "source": [
    "scaler = MinMaxScaler()\n",
    "# 스케일을 적용할 column을 정의합니다.\n",
    "scale_cols = ['Open', 'High', 'Low', 'Close', 'Volume', 'Price']\n",
    "# 스케일 후 columns\n",
    "scaled = scaler.fit_transform(df[scale_cols])\n",
    "\n",
    "df = pd.DataFrame(scaled, columns=scale_cols)\n",
    "print(df)"
   ]
  },
  {
   "cell_type": "code",
   "execution_count": 5,
   "metadata": {
    "id": "ZyXU4AjStAMY"
   },
   "outputs": [
    {
     "name": "stdout",
     "output_type": "stream",
     "text": [
      "<class 'pandas.core.frame.DataFrame'>\n",
      "          Open      High    Low    Volume     Price\n",
      "9000  0.636364  0.636364  0.700  0.000045  0.000045\n",
      "9001  0.659091  0.659091  0.700  0.009210  0.009391\n",
      "9002  0.636364  0.636364  0.700  0.007719  0.007871\n",
      "9003  0.636364  0.636364  0.700  0.010873  0.011087\n",
      "9004  0.636364  0.636364  0.700  0.006511  0.006639\n",
      "...        ...       ...    ...       ...       ...\n",
      "9995  0.340909  0.340909  0.375  0.002788  0.002766\n",
      "9996  0.318182  0.318182  0.325  0.073752  0.072983\n",
      "9997  0.318182  0.318182  0.350  0.000101  0.000100\n",
      "9998  0.295455  0.295455  0.325  0.011262  0.011124\n",
      "9999  0.295455  0.318182  0.325  0.013915  0.013745\n",
      "\n",
      "[1000 rows x 5 columns]\n"
     ]
    },
    {
     "name": "stderr",
     "output_type": "stream",
     "text": [
      "C:\\Users\\KMH\\AppData\\Local\\Temp\\ipykernel_16708\\3903757176.py:1: FutureWarning: In a future version of pandas all arguments of DataFrame.drop except for the argument 'labels' will be keyword-only.\n",
      "  x_train, x_test, y_train, y_test = train_test_split(df.drop('Close', 1), df['Close'], test_size=0.1, random_state=0, shuffle=False)\n"
     ]
    }
   ],
   "source": [
    "x_train, x_test, y_train, y_test = train_test_split(df.drop('Close', 1), df['Close'], test_size=0.1, random_state=0, shuffle=False)\n",
    "x_train.shape, y_train.shape\n",
    "print(type(x_test))\n",
    "print(x_test)"
   ]
  },
  {
   "cell_type": "code",
   "execution_count": 6,
   "metadata": {
    "id": "U2La96IxtBrX"
   },
   "outputs": [],
   "source": [
    "def windowed_dataset(x, y, window_size, batch_size, shuffle):\n",
    "    # X값 window dataset 구성\n",
    "    ds_x = tf.data.Dataset.from_tensor_slices(x)\n",
    "    ds_x = ds_x.window(window_size, shift=1, stride=1, drop_remainder=True)\n",
    "    ds_x = ds_x.flat_map(lambda x: x.batch(window_size))\n",
    "    # y값 추가\n",
    "    ds_y = tf.data.Dataset.from_tensor_slices(y[window_size:])\n",
    "    ds = tf.data.Dataset.zip((ds_x, ds_y))\n",
    "    if shuffle:\n",
    "        ds = ds.shuffle(1000)\n",
    "    return ds.batch(batch_size).prefetch(1)"
   ]
  },
  {
   "cell_type": "code",
   "execution_count": 7,
   "metadata": {
    "id": "tI8txgbttOqm"
   },
   "outputs": [],
   "source": [
    "WINDOW_SIZE=5\n",
    "BATCH_SIZE=32"
   ]
  },
  {
   "cell_type": "code",
   "execution_count": 8,
   "metadata": {
    "id": "Fx32u7VGtPxv"
   },
   "outputs": [],
   "source": [
    "train_data = windowed_dataset(x_train, y_train, WINDOW_SIZE, BATCH_SIZE, True)\n",
    "test_data = windowed_dataset(x_test, y_test, WINDOW_SIZE, BATCH_SIZE, False)"
   ]
  },
  {
   "cell_type": "code",
   "execution_count": 9,
   "metadata": {
    "id": "-947DYqHtRBX"
   },
   "outputs": [],
   "source": [
    "model = Sequential([\n",
    "    # 1차원 feature map 생성\n",
    "    Conv1D(filters=32, kernel_size=5,\n",
    "           padding=\"causal\",\n",
    "           activation=\"relu\",\n",
    "           input_shape=[WINDOW_SIZE, 5]),\n",
    "    # LSTM\n",
    "    LSTM(16, activation='tanh'),\n",
    "    Dense(16, activation=\"relu\"),\n",
    "    Dense(1),\n",
    "])\n",
    "\n",
    "# Sequence 학습에 비교적 좋은 퍼포먼스를 내는 Huber()를 사용합니다.\n",
    "loss = Huber()\n",
    "optimizer = Adam(0.0005)\n",
    "model.compile(loss=Huber(), optimizer=optimizer, metrics=['mse'])"
   ]
  },
  {
   "cell_type": "code",
   "execution_count": null,
   "metadata": {
    "id": "zjKmJD1ctSHE"
   },
   "outputs": [
    {
     "name": "stdout",
     "output_type": "stream",
     "text": [
      "Epoch 1/1000\n",
      "    279/Unknown - 6s 5ms/step - loss: 0.0038 - mse: 0.0077\n",
      "Epoch 1: val_loss improved from inf to 0.00025, saving model to tmp\\ckeckpointer.ckpt\n",
      "282/282 [==============================] - 7s 9ms/step - loss: 0.0038 - mse: 0.0076 - val_loss: 2.5372e-04 - val_mse: 5.0743e-04\n",
      "Epoch 2/1000\n",
      "275/282 [============================>.] - ETA: 0s - loss: 2.5806e-04 - mse: 5.1611e-04\n",
      "Epoch 2: val_loss improved from 0.00025 to 0.00021, saving model to tmp\\ckeckpointer.ckpt\n",
      "282/282 [==============================] - 2s 5ms/step - loss: 2.5923e-04 - mse: 5.1846e-04 - val_loss: 2.1412e-04 - val_mse: 4.2825e-04\n",
      "Epoch 3/1000\n",
      "282/282 [==============================] - ETA: 0s - loss: 2.5530e-04 - mse: 5.1059e-04\n",
      "Epoch 3: val_loss did not improve from 0.00021\n",
      "282/282 [==============================] - 2s 5ms/step - loss: 2.5530e-04 - mse: 5.1059e-04 - val_loss: 2.3092e-04 - val_mse: 4.6185e-04\n",
      "Epoch 4/1000\n",
      "271/282 [===========================>..] - ETA: 0s - loss: 2.3303e-04 - mse: 4.6606e-04\n",
      "Epoch 4: val_loss improved from 0.00021 to 0.00021, saving model to tmp\\ckeckpointer.ckpt\n",
      "282/282 [==============================] - 2s 5ms/step - loss: 2.3942e-04 - mse: 4.7884e-04 - val_loss: 2.0563e-04 - val_mse: 4.1126e-04\n",
      "Epoch 5/1000\n",
      "282/282 [==============================] - ETA: 0s - loss: 2.3355e-04 - mse: 4.6709e-04\n",
      "Epoch 5: val_loss improved from 0.00021 to 0.00019, saving model to tmp\\ckeckpointer.ckpt\n",
      "282/282 [==============================] - 2s 5ms/step - loss: 2.3355e-04 - mse: 4.6709e-04 - val_loss: 1.9151e-04 - val_mse: 3.8302e-04\n",
      "Epoch 6/1000\n",
      "278/282 [============================>.] - ETA: 0s - loss: 2.2475e-04 - mse: 4.4950e-04\n",
      "Epoch 6: val_loss did not improve from 0.00019\n",
      "282/282 [==============================] - 1s 5ms/step - loss: 2.2779e-04 - mse: 4.5558e-04 - val_loss: 2.5860e-04 - val_mse: 5.1720e-04\n",
      "Epoch 7/1000\n",
      "275/282 [============================>.] - ETA: 0s - loss: 2.2740e-04 - mse: 4.5480e-04\n",
      "Epoch 7: val_loss did not improve from 0.00019\n",
      "282/282 [==============================] - 1s 5ms/step - loss: 2.3088e-04 - mse: 4.6177e-04 - val_loss: 3.0060e-04 - val_mse: 6.0120e-04\n",
      "Epoch 8/1000\n",
      "279/282 [============================>.] - ETA: 0s - loss: 2.1936e-04 - mse: 4.3871e-04\n",
      "Epoch 8: val_loss did not improve from 0.00019\n",
      "282/282 [==============================] - 1s 5ms/step - loss: 2.2275e-04 - mse: 4.4550e-04 - val_loss: 2.9332e-04 - val_mse: 5.8665e-04\n",
      "Epoch 9/1000\n",
      "271/282 [===========================>..] - ETA: 0s - loss: 2.2067e-04 - mse: 4.4135e-04\n",
      "Epoch 9: val_loss improved from 0.00019 to 0.00018, saving model to tmp\\ckeckpointer.ckpt\n",
      "282/282 [==============================] - 1s 5ms/step - loss: 2.2776e-04 - mse: 4.5552e-04 - val_loss: 1.7915e-04 - val_mse: 3.5830e-04\n",
      "Epoch 10/1000\n",
      "272/282 [===========================>..] - ETA: 0s - loss: 2.2185e-04 - mse: 4.4369e-04\n",
      "Epoch 10: val_loss did not improve from 0.00018\n",
      "282/282 [==============================] - 1s 5ms/step - loss: 2.2189e-04 - mse: 4.4378e-04 - val_loss: 2.2167e-04 - val_mse: 4.4334e-04\n",
      "Epoch 11/1000\n",
      "277/282 [============================>.] - ETA: 0s - loss: 2.1899e-04 - mse: 4.3799e-04\n",
      "Epoch 11: val_loss did not improve from 0.00018\n",
      "282/282 [==============================] - 1s 5ms/step - loss: 2.1953e-04 - mse: 4.3906e-04 - val_loss: 2.3228e-04 - val_mse: 4.6456e-04\n",
      "Epoch 12/1000\n",
      "204/282 [====================>.........] - ETA: 0s - loss: 1.9117e-04 - mse: 3.8234e-04"
     ]
    }
   ],
   "source": [
    "# earlystopping은 35번 epoch통안 val_loss 개선이 없다면 학습을 멈춥니다.\n",
    "earlystopping = EarlyStopping(monitor='val_loss', patience=35)\n",
    "# val_loss 기준 체크포인터도 생성합니다.\n",
    "filename = os.path.join('tmp', 'ckeckpointer.ckpt')\n",
    "checkpoint = ModelCheckpoint(filename, \n",
    "                             save_weights_only=True, \n",
    "                             save_best_only=True, \n",
    "                             monitor='val_loss', \n",
    "                             verbose=1)\n",
    "                             \n",
    "history = model.fit(train_data, \n",
    "                    validation_data=(test_data), \n",
    "                    epochs=1000, \n",
    "                    callbacks=[checkpoint, earlystopping])"
   ]
  },
  {
   "cell_type": "code",
   "execution_count": null,
   "metadata": {
    "id": "cEPvRWmCtTUv"
   },
   "outputs": [],
   "source": [
    "print(\"%.7f\" % (float(min(history.history['val_loss']))))\n",
    "model.load_weights(filename)\n",
    "pred = model.predict(test_data)\n",
    "actual = np.asarray(y_test)[WINDOW_SIZE:]\n",
    "actual = np.reshape(actual, (len(actual), 1))\n",
    "print(pred.shape)\n",
    "print(actual.shape)"
   ]
  },
  {
   "cell_type": "code",
   "execution_count": null,
   "metadata": {
    "id": "Mn3FcYJUtUam"
   },
   "outputs": [],
   "source": [
    "plt.figure(figsize=(10,10))\n",
    "plt.plot(actual, label='actual')\n",
    "plt.plot(pred, label='prediction')\n",
    "plt.legend()\n",
    "plt.show()"
   ]
  },
  {
   "cell_type": "code",
   "execution_count": null,
   "metadata": {
    "id": "S-HGy1OztX7x"
   },
   "outputs": [],
   "source": [
    "live_df = do_crawl(UNIT, MARKET, get_query_datetime(), '200', 5)\n",
    "print(datetime.datetime.now())\n",
    "print(get_query_datetime())\n",
    "\n",
    "scale_cols = ['Open', 'High', 'Low', 'Close', 'Volume', 'Price']\n",
    "scaled = scaler.fit_transform(live_df[scale_cols])\n",
    "live_scaled_df = pd.DataFrame(scaled, columns=scale_cols)\n",
    "live_x, live_y = live_scaled_df.drop('Close', 1), live_scaled_df['Close']\n",
    "live_data = windowed_dataset(live_x, live_y, WINDOW_SIZE, BATCH_SIZE, False)\n",
    "\n",
    "pred = model.predict(live_data)\n",
    "\n",
    "# create empty table with 12 fields\n",
    "trainPredict_dataset_like = np.zeros(shape=(len(pred), 6) )\n",
    "# put the predicted values in the right field\n",
    "trainPredict_dataset_like[:,0] = pred[:,0]\n",
    "# inverse transform and then select the right field\n",
    "pred = scaler.inverse_transform(trainPredict_dataset_like)[:,0]\n",
    "\n",
    "def muzisung_buy(pred_percent: float, live_percent: float, money: float):\n",
    "    global array_pred_percents\n",
    "    array_pred_percents.sort()\n",
    "    if pred_percent > np.mean(array_pred_percents):\n",
    "        money = money + (money * live_percent / 100)\n",
    "    return money"
   ]
  },
  {
   "cell_type": "code",
   "execution_count": null,
   "metadata": {
    "id": "SZDQPJFEtZVl"
   },
   "outputs": [],
   "source": [
    "plt.figure(figsize=(20,10))\n",
    "plt.plot(live_df['Close'][WINDOW_SIZE:], label='actual')\n",
    "plt.plot(pred, label='prediction')\n",
    "plt.legend()\n",
    "plt.show()"
   ]
  }
 ],
 "metadata": {
  "colab": {
   "provenance": []
  },
  "kernelspec": {
   "display_name": "Python 3 (ipykernel)",
   "language": "python",
   "name": "python3"
  },
  "language_info": {
   "codemirror_mode": {
    "name": "ipython",
    "version": 3
   },
   "file_extension": ".py",
   "mimetype": "text/x-python",
   "name": "python",
   "nbconvert_exporter": "python",
   "pygments_lexer": "ipython3",
   "version": "3.9.12"
  }
 },
 "nbformat": 4,
 "nbformat_minor": 1
}
