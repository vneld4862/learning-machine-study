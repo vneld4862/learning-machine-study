{
 "cells": [
  {
   "cell_type": "code",
   "execution_count": null,
   "id": "930c0957",
   "metadata": {},
   "outputs": [],
   "source": [
    "# pip install selenium"
   ]
  },
  {
   "cell_type": "code",
   "execution_count": 2,
   "id": "becb0e73",
   "metadata": {},
   "outputs": [],
   "source": [
    "from selenium import webdriver\n",
    "from selenium.webdriver.common.by import By\n",
    "import bs4\n",
    "import time\n",
    "from selenium.webdriver import ActionChains"
   ]
  },
  {
   "cell_type": "code",
   "execution_count": 5,
   "id": "e395bb47",
   "metadata": {},
   "outputs": [
    {
     "name": "stderr",
     "output_type": "stream",
     "text": [
      "C:\\Users\\KMH\\AppData\\Local\\Temp\\ipykernel_10912\\1533763940.py:2: DeprecationWarning: executable_path has been deprecated, please pass in a Service object\n",
      "  driver=webdriver.Chrome(\"C:/Users/KMH\\chromedriver_win32/chromedriver.exe\")\n"
     ]
    }
   ],
   "source": [
    "#driver = webdriver.Chrome(service=Service(ChromeDriverManager().install()))\n",
    "driver=webdriver.Chrome(\"C:/Users/KMH\\chromedriver_win32/chromedriver.exe\")\n",
    "driver.get(\"https://hashcode.co.kr\")\n",
    "time.sleep(1)\n",
    "\n",
    "# 내비게이션 바에서 \"로그인\" 버튼을 찾아 눌러봅시다.\n",
    "button = driver.find_element(By.CLASS_NAME, \"nav-link.nav-signin\")\n",
    "ActionChains(driver).click(button).perform()\n",
    "time.sleep(1)\n",
    "\n",
    "loginInfo =  driver.find_elements(By.CLASS_NAME,\"FymRFM681OjzOdzor5nk\")\n",
    "\n",
    "# \"아이디\" input 요소에 여러분의 아이디를 입력합니다.\n",
    "#id_input = driver.find_element(By.CLASS_NAME,\"FymRFM681OjzOdzor5nk\")\n",
    "ActionChains(driver).send_keys_to_element(loginInfo[0], \"hamin2633@naver.com\").perform()\n",
    "time.sleep(1)\n",
    "\n",
    "# \"패스워드\" input 요소에 여러분의 비밀번호를 입력합니다.\n",
    "#pw_input = driver.find_element(By.ID,\"FymRFM681OjzOdzor5nk\")\n",
    "ActionChains(driver).send_keys_to_element(loginInfo[1], \"dlgkals2633\").perform()\n",
    "time.sleep(1)\n",
    "\n",
    "# \"로그인\" 버튼을 눌러서 로그인을 완료합니다.\n",
    "login_button = driver.find_element(By.CLASS_NAME, \"itAWTII94uCyf9uUgREi\")\n",
    "ActionChains(driver).click(login_button).perform()\n",
    "time.sleep(1)"
   ]
  }
 ],
 "metadata": {
  "kernelspec": {
   "display_name": "Python 3 (ipykernel)",
   "language": "python",
   "name": "python3"
  },
  "language_info": {
   "codemirror_mode": {
    "name": "ipython",
    "version": 3
   },
   "file_extension": ".py",
   "mimetype": "text/x-python",
   "name": "python",
   "nbconvert_exporter": "python",
   "pygments_lexer": "ipython3",
   "version": "3.9.12"
  }
 },
 "nbformat": 4,
 "nbformat_minor": 5
}
