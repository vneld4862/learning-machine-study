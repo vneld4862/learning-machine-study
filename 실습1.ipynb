{
 "cells": [
  {
   "cell_type": "code",
   "execution_count": 57,
   "id": "6b4e783b",
   "metadata": {},
   "outputs": [
    {
     "name": "stdout",
     "output_type": "stream",
     "text": [
      "<h2 class=\"blind\">도시 별 날씨 검색</h2>\n",
      "[<span class=\"label today\">오늘</span>]\n",
      "오늘\n",
      "\n",
      "오늘\n"
     ]
    }
   ],
   "source": [
    "from bs4 import BeautifulSoup\n",
    "from urllib.request import urlopen\n",
    "\n",
    "#크롤링 할 웹 페이지 주소\n",
    "url='https://weather.naver.com/'\n",
    "\n",
    "#웹 사이트의 html 정보를 파이썬으로 읽음\n",
    "html=urlopen(url)\n",
    "#html.read() => 읽은 html 정보를 문자열로 제공\n",
    "# print(html.read())\n",
    "#html정보를 객체 형태로 전환(encoding라고봐도 무방)\n",
    "bs=BeautifulSoup(html,'html.parser')\n",
    "# print(bs.body)\n",
    "\n",
    "# print(bs.h2) # h2에 대해서 여러개의 있어도 제일 위의 태그에 대한 정보만 들고옴\n",
    "print(bs.findAll(\"h2\",{'class':'blind'})[0])\n",
    "\n",
    "#css 선택자로 필요한 태그에 접근\n",
    "#사이트에서 개발자 모드에서 해당열의 ...-> 복사 -> selector복사 -> 크롤링할 열정보 붙여넣기\n",
    "selector='#hourly > div.weather_graph > div > div > div > table > thead > tr > th.data.heading > span'\n",
    "print(bs.select(selector)) #태그 전체를 출력//출력시 [] 리스트 형태에 감싸져있음\n",
    "print(bs.select(selector)[0].get_text()) #get_text()는 하나의 태그에 한해서만\n",
    "\n",
    "print()\n",
    "for req in bs.select(selector):\n",
    "    print(req.get_text())"
   ]
  },
  {
   "cell_type": "code",
   "execution_count": 78,
   "id": "7d20f491",
   "metadata": {},
   "outputs": [
    {
     "name": "stdout",
     "output_type": "stream",
     "text": [
      "['오늘', '오늘', '오늘', '오늘']\n"
     ]
    },
    {
     "data": {
      "text/plain": [
       "[<span class=\"label today\">오늘</span>,\n",
       " <span class=\"label tomorrow\">내일</span>,\n",
       " <span class=\"label after_tomorrow\">모레</span>,\n",
       " <span class=\"label after_tomorrow\">글피</span>]"
      ]
     },
     "execution_count": 78,
     "metadata": {},
     "output_type": "execute_result"
    }
   ],
   "source": [
    "from bs4 import BeautifulSoup\n",
    "from urllib.request import urlopen\n",
    "\n",
    "url='https://weather.naver.com/'\n",
    "html=urlopen(url)\n",
    "bs=BeautifulSoup(html,'html.parser')\n",
    "\n",
    "\n",
    "#find_all(tag,attributes,recursive,text,limit,keywors)\n",
    "# print(bs.find_all('h2'))\n",
    "print(bs.find_all(text='오늘'))\n",
    "\n",
    "bs.find_all('span',{'class' : 'label'})\n"
   ]
  }
 ],
 "metadata": {
  "kernelspec": {
   "display_name": "Python 3 (ipykernel)",
   "language": "python",
   "name": "python3"
  },
  "language_info": {
   "codemirror_mode": {
    "name": "ipython",
    "version": 3
   },
   "file_extension": ".py",
   "mimetype": "text/x-python",
   "name": "python",
   "nbconvert_exporter": "python",
   "pygments_lexer": "ipython3",
   "version": "3.9.12"
  }
 },
 "nbformat": 4,
 "nbformat_minor": 5
}
